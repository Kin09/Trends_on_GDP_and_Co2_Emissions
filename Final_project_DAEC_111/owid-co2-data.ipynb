{
 "cells": [
  {
   "cell_type": "code",
   "execution_count": 1,
   "metadata": {},
   "outputs": [],
   "source": [
    "import pandas as pd\n",
    "import matplotlib.pyplot as plt\n",
    "import seaborn as sns"
   ]
  },
  {
   "cell_type": "code",
   "execution_count": 4,
   "metadata": {},
   "outputs": [],
   "source": [
    "import os\n",
    "for dirname, _, filenames in os.walk('/kaggle/input'):\n",
    "    for filename in filenames:\n",
    "        print(os.path.join(dirname, filename))"
   ]
  },
  {
   "cell_type": "code",
   "execution_count": 5,
   "metadata": {},
   "outputs": [],
   "source": [
    "df = pd.read_csv('world-data-2023.csv')"
   ]
  },
  {
   "cell_type": "code",
   "execution_count": 19,
   "metadata": {},
   "outputs": [
    {
     "name": "stdout",
     "output_type": "stream",
     "text": [
      "<class 'pandas.core.frame.DataFrame'>\n",
      "RangeIndex: 195 entries, 0 to 194\n",
      "Data columns (total 35 columns):\n",
      " #   Column                                     Non-Null Count  Dtype  \n",
      "---  ------                                     --------------  -----  \n",
      " 0   Country                                    195 non-null    object \n",
      " 1   Density(P/Km2)                             195 non-null    object \n",
      " 2   Abbreviation                               188 non-null    object \n",
      " 3   Agricultural Land( %)                      195 non-null    object \n",
      " 4   Land Area(Km2)                             194 non-null    object \n",
      " 5   Armed Forces size                          171 non-null    object \n",
      " 6   Birth Rate                                 189 non-null    float64\n",
      " 7   Calling Code                               195 non-null    object \n",
      " 8   Capital/Major City                         192 non-null    object \n",
      " 9   Co2-Emissions                              188 non-null    object \n",
      " 10  CPI                                        178 non-null    object \n",
      " 11  CPI Change (%)                             179 non-null    object \n",
      " 12  Currency-Code                              180 non-null    object \n",
      " 13  Fertility Rate                             188 non-null    float64\n",
      " 14  Forested Area (%)                          188 non-null    object \n",
      " 15  Gasoline Price                             175 non-null    object \n",
      " 16  GDP                                        193 non-null    object \n",
      " 17  Gross primary education enrollment (%)     188 non-null    object \n",
      " 18  Gross tertiary education enrollment (%)    183 non-null    object \n",
      " 19  Infant mortality                           189 non-null    float64\n",
      " 20  Largest city                               189 non-null    object \n",
      " 21  Life expectancy                            187 non-null    float64\n",
      " 22  Maternal mortality ratio                   181 non-null    float64\n",
      " 23  Minimum wage                               150 non-null    object \n",
      " 24  Official language                          190 non-null    object \n",
      " 25  Out of pocket health expenditure           188 non-null    object \n",
      " 26  Physicians per thousand                    188 non-null    float64\n",
      " 27  Population                                 194 non-null    object \n",
      " 28  Population: Labor force participation (%)  176 non-null    object \n",
      " 29  Tax revenue (%)                            169 non-null    object \n",
      " 30  Total tax rate                             183 non-null    object \n",
      " 31  Unemployment rate                          176 non-null    object \n",
      " 32  Urban_population                           190 non-null    object \n",
      " 33  Latitude                                   195 non-null    object \n",
      " 34  Longitude                                  195 non-null    object \n",
      "dtypes: float64(6), object(29)\n",
      "memory usage: 53.4+ KB\n"
     ]
    }
   ],
   "source": [
    "df.info()"
   ]
  },
  {
   "cell_type": "code",
   "execution_count": null,
   "metadata": {},
   "outputs": [],
   "source": [
    "columns_to_str = ['Latitude', 'Longitude', 'Calling Code']\n",
    "\n",
    "for column in columns_to_str:\n",
    "    df[column] = df[column].astype(str)\n",
    "\n",
    "column_to_float =[ 'Density\\n(P/km2)', 'Agricultural Land( %)','Land Area(Km2)',\n",
    "                 'Birth Rate', 'Co2-Emissions', 'Forested Area (%)',\n",
    "                 'CPI', 'CPI Change (%)', 'Fertility Rate', 'Gasoline Price','GDP',\n",
    "                 'Gross primary education enrollment (%)', \"Armed Forces size\",\n",
    "                 'Gross tertiary education enrollment (%)', 'Infant mortality',\n",
    "                 'Life expectancy', 'Maternal mortality ratio','Minimum wage', \n",
    "                 'Out of pocket health expenditure','Physicians per thousand', \n",
    "                 'Population','Population: Labor force participation (%)', \n",
    "                 'Tax revenue (%)','Total tax rate', 'Unemployment rate', 'Urban_population']\n",
    "\n",
    "\n",
    "for column in column_to_float:\n",
    "    df[column]=df[column].astype(str)\n",
    "    df[column]=df[column].str.replace(\",\",\"\")\n",
    "    df[column]=df[column].str.replace(\"$\",\"\")\n",
    "    df[column]=df[column][column].str.replace(\"%\",\"\").astype(float)\n",
    "\n"
   ]
  },
  {
   "cell_type": "code",
   "execution_count": 20,
   "metadata": {},
   "outputs": [
    {
     "data": {
      "text/plain": [
       "(195, 35)"
      ]
     },
     "execution_count": 20,
     "metadata": {},
     "output_type": "execute_result"
    }
   ],
   "source": [
    "df.shape"
   ]
  },
  {
   "cell_type": "code",
   "execution_count": 22,
   "metadata": {},
   "outputs": [
    {
     "data": {
      "text/plain": [
       "Country                                       0\n",
       "Density(P/Km2)                                0\n",
       "Abbreviation                                  7\n",
       "Agricultural Land( %)                         0\n",
       "Land Area(Km2)                                1\n",
       "Armed Forces size                            24\n",
       "Birth Rate                                    6\n",
       "Calling Code                                  0\n",
       "Capital/Major City                            3\n",
       "Co2-Emissions                                 7\n",
       "CPI                                          17\n",
       "CPI Change (%)                               16\n",
       "Currency-Code                                15\n",
       "Fertility Rate                                7\n",
       "Forested Area (%)                             7\n",
       "Gasoline Price                               20\n",
       "GDP                                           2\n",
       "Gross primary education enrollment (%)        7\n",
       "Gross tertiary education enrollment (%)      12\n",
       "Infant mortality                              6\n",
       "Largest city                                  6\n",
       "Life expectancy                               8\n",
       "Maternal mortality ratio                     14\n",
       "Minimum wage                                 45\n",
       "Official language                             5\n",
       "Out of pocket health expenditure              7\n",
       "Physicians per thousand                       7\n",
       "Population                                    1\n",
       "Population: Labor force participation (%)    19\n",
       "Tax revenue (%)                              26\n",
       "Total tax rate                               12\n",
       "Unemployment rate                            19\n",
       "Urban_population                              5\n",
       "Latitude                                      0\n",
       "Longitude                                     0\n",
       "dtype: int64"
      ]
     },
     "execution_count": 22,
     "metadata": {},
     "output_type": "execute_result"
    }
   ],
   "source": [
    "missing_values = df.isna().sum()\n",
    "missing_values"
   ]
  },
  {
   "cell_type": "code",
   "execution_count": 23,
   "metadata": {},
   "outputs": [
    {
     "data": {
      "text/plain": [
       "39              Republic of the Congo\n",
       "56                           Eswatini\n",
       "73                       Vatican City\n",
       "81                Republic of Ireland\n",
       "119                           Namibia\n",
       "128                   North Macedonia\n",
       "133    Palestinian National Authority\n",
       "Name: Country, dtype: object"
      ]
     },
     "execution_count": 23,
     "metadata": {},
     "output_type": "execute_result"
    }
   ],
   "source": [
    "missing_abbr = df.loc[df[\"Abbreviation\"].isnull(), 'Country']\n",
    "missing_abbr"
   ]
  },
  {
   "cell_type": "code",
   "execution_count": 24,
   "metadata": {},
   "outputs": [
    {
     "data": {
      "text/plain": [
       "8          Australia\n",
       "85             Japan\n",
       "110           Mexico\n",
       "150     S�����������\n",
       "186    United States\n",
       "Name: Country, dtype: object"
      ]
     },
     "execution_count": 24,
     "metadata": {},
     "output_type": "execute_result"
    }
   ],
   "source": [
    "missing_lang = df.loc[df[\"Official language\"].isnull(), 'Country']\n",
    "missing_lang"
   ]
  },
  {
   "cell_type": "code",
   "execution_count": 27,
   "metadata": {},
   "outputs": [],
   "source": [
    "df.iloc[8, 0] = ' Australia'\n",
    "df.iloc[8,24] = 'English'\n",
    "df.iloc[85, 0] = ' Japan'\n",
    "df.iloc[85,24] = 'Japanese'\n",
    "df.iloc[110, 0] = ' Mexico'\n",
    "df.iloc[110,24] = 'Spanish'\n",
    "df.iloc[186, 0] = ' United States'\n",
    "df.iloc[186,24] = 'English'\n",
    "df.iloc[150, 0] = 'Sao Tome and Principe'\n",
    "df.iloc[150,24] = 'Portuguese'\n"
   ]
  },
  {
   "cell_type": "code",
   "execution_count": null,
   "metadata": {},
   "outputs": [],
   "source": [
    "\n",
    "df.iloc[8]\n",
    "df.iloc[85] \n",
    "df.iloc[110] \n",
    "df.iloc[186] \n",
    "df.iloc[150]"
   ]
  },
  {
   "cell_type": "code",
   "execution_count": null,
   "metadata": {},
   "outputs": [],
   "source": [
    "df.iloc[150, 0] = 'Sao Tome and Principe'\n",
    "df.iloc[150,24] = 'Portuguese'"
   ]
  },
  {
   "cell_type": "code",
   "execution_count": 35,
   "metadata": {},
   "outputs": [
    {
     "name": "stdout",
     "output_type": "stream",
     "text": [
      "56                           Eswatini\n",
      "73                       Vatican City\n",
      "113                            Monaco\n",
      "120                             Nauru\n",
      "128                   North Macedonia\n",
      "133    Palestinian National Authority\n",
      "149                        San Marino\n",
      "Name: Country, dtype: object\n"
     ]
    }
   ],
   "source": [
    "df = df.loc[df['Co2-Emissions'].isnull(), 'Country']\n",
    "print(df)"
   ]
  },
  {
   "cell_type": "code",
   "execution_count": 41,
   "metadata": {},
   "outputs": [
    {
     "name": "stdout",
     "output_type": "stream",
     "text": [
      "There are no duplicated values in countries_2023 DataFrame.\n"
     ]
    }
   ],
   "source": [
    "if df.duplicated().any():\n",
    "    print(\"There are duplicated values in countries_2023 DataFrame.\")\n",
    "else:\n",
    "    print(\"There are no duplicated values in countries_2023 DataFrame.\")"
   ]
  },
  {
   "cell_type": "code",
   "execution_count": null,
   "metadata": {},
   "outputs": [],
   "source": []
  },
  {
   "cell_type": "code",
   "execution_count": null,
   "metadata": {},
   "outputs": [],
   "source": []
  }
 ],
 "metadata": {
  "kernelspec": {
   "display_name": "Python 3",
   "language": "python",
   "name": "python3"
  },
  "language_info": {
   "codemirror_mode": {
    "name": "ipython",
    "version": 3
   },
   "file_extension": ".py",
   "mimetype": "text/x-python",
   "name": "python",
   "nbconvert_exporter": "python",
   "pygments_lexer": "ipython3",
   "version": "3.11.4"
  },
  "orig_nbformat": 4
 },
 "nbformat": 4,
 "nbformat_minor": 2
}
